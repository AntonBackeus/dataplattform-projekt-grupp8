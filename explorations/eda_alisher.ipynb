{
 "cells": [
  {
   "cell_type": "markdown",
   "metadata": {},
   "source": [
    "## API VALUTA"
   ]
  },
  {
   "cell_type": "code",
   "execution_count": 3,
   "metadata": {},
   "outputs": [
    {
     "name": "stdout",
     "output_type": "stream",
     "text": [
      "('{\"base\":\"USD\",\"results\":{\"SEK\":10.71702,\"EUR\":0.95562,\"DKK\":7.12737,\"NOK\":11.12858,\"ISK\":140.22613},\"updated\":\"2025-02-18 '\n",
      " '10:11:53\",\"ms\":6}')\n"
     ]
    }
   ],
   "source": [
    "from quixstreams import Application\n",
    "from pprint import pprint\n",
    "import sys\n",
    "import os\n",
    "sys.path.append(os.path.abspath(os.path.join('..', 'src')))\n",
    "from constants import RATE_API\n",
    "\n",
    "import requests\n",
    "\n",
    "url = f\"https://api.fastforex.io/fetch-multi?from=USD&to=SEK%2C%20EUR%2C%20DKK%2C%20NOK%2C%20ISK&api_key={RATE_API}\"\n",
    "\n",
    "headers = {\"accept\": \"application/json\"}\n",
    "\n",
    "response = requests.get(url, headers=headers)\n",
    "\n",
    "pprint(response.text)"
   ]
  },
  {
   "cell_type": "code",
   "execution_count": null,
   "metadata": {},
   "outputs": [],
   "source": [
    "'ORDI': coin_latest\n",
    "\n",
    "\n",
    "'ORDI': {\n",
    "    'coin_latest' : coin_latest,\n",
    "    'rate_latest' : rate_latest\n",
    "}\n",
    "\n",
    "kafka_message['ORDI'][0]['quote']['USD']\n",
    "kafka_message['ORDI'][1]['results']['SEK']"
   ]
  }
 ],
 "metadata": {
  "kernelspec": {
   "display_name": ".venv",
   "language": "python",
   "name": "python3"
  },
  "language_info": {
   "codemirror_mode": {
    "name": "ipython",
    "version": 3
   },
   "file_extension": ".py",
   "mimetype": "text/x-python",
   "name": "python",
   "nbconvert_exporter": "python",
   "pygments_lexer": "ipython3",
   "version": "3.11.8"
  }
 },
 "nbformat": 4,
 "nbformat_minor": 2
}
